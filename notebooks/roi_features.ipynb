{
 "cells": [
  {
   "cell_type": "code",
   "execution_count": null,
   "metadata": {
    "collapsed": false
   },
   "outputs": [],
   "source": [
    "import os\n",
    "import numpy as np\n",
    "from pandas import DataFrame\n",
    "import nibabel\n",
    "import matplotlib.pyplot as plt\n",
    "%matplotlib inline\n",
    "import seaborn as sns\n",
    "sns.set_style('white')\n",
    "from ia_mri_tools.ia_mri_tools import coil_correction, signal_likelihood, textures\n",
    "from sklearn.covariance import EmpiricalCovariance\n",
    "from sklearn.linear_model import LogisticRegression"
   ]
  },
  {
   "cell_type": "code",
   "execution_count": null,
   "metadata": {
    "collapsed": false
   },
   "outputs": [],
   "source": [
    "# Load the data\n",
    "data_path = 'data/HCP/100307'\n",
    "t1 = nibabel.load(os.path.join(data_path, 'T1w_acpc_dc.nii.gz')).get_data()\n",
    "t2 = nibabel.load(os.path.join(data_path, 'T2w_acpc_dc.nii.gz')).get_data()\n",
    "nx, ny, nz = t1.shape\n",
    "\n",
    "# Load the Freesurfer segmentation\n",
    "seg = nibabel.load(os.path.join(data_path, 'aparc+aseg.nii.gz')).get_data()\n",
    "\n",
    "# and label mapping\n",
    "with open('../ia_mri_tools/freesurfer/FreeSurferColorLUT.txt', 'r') as f:\n",
    "    labels = {}\n",
    "    for line in f.readlines():\n",
    "        try:\n",
    "            bits = line.split()\n",
    "            index = int(bits[0])\n",
    "            labels[bits[1]] = index\n",
    "        except:\n",
    "            continue\n",
    "            \n",
    "# Make some ROI masks from the freesurfer labels\n",
    "gray = np.logical_and(seg>=1000, seg<=1035)\n",
    "white = seg == labels['Left-Cerebral-White-Matter']\n",
    "thalamus = seg == labels['Left-Thalamus-Proper']\n",
    "caudate = seg == labels['Left-Caudate']\n",
    "putamen = seg == labels['Left-Putamen']\n",
    "pallidum = seg == labels['Left-Pallidum']\n",
    "csf = seg == labels['CSF']\n",
    "\n",
    "ventricle = ((seg == labels['Left-Lateral-Ventricle'])\n",
    "    + (seg == labels['Left-Inf-Lat-Vent']).astype(np.int16)\n",
    "    + (seg == labels['3rd-Ventricle']).astype(np.int16)\n",
    "    + (seg == labels['4th-Ventricle']).astype(np.int16))\n"
   ]
  },
  {
   "cell_type": "code",
   "execution_count": null,
   "metadata": {
    "collapsed": false
   },
   "outputs": [],
   "source": [
    "# conservative background mask (use the sum of the uncorrected t1 and t2 data)\n",
    "background = signal_likelihood(t1+t2) < 0.7\n",
    "brain = 1-background\n",
    "\n",
    "# z = 120\n",
    "# plt.imshow(background[:,::-1,z].transpose(), cmap='gray', vmin=0, vmax=1)\n",
    "# plt.axis('off')\n",
    "# plt.title('Background')"
   ]
  },
  {
   "cell_type": "code",
   "execution_count": null,
   "metadata": {
    "collapsed": true
   },
   "outputs": [],
   "source": [
    "# Compute the coil correction using the sum of T1 and T2 as the reference\n",
    "c = coil_correction(t1+t2)\n",
    "\n",
    "# Correct the intensities\n",
    "ct1 = c*t1\n",
    "ct2 = c*t2"
   ]
  },
  {
   "cell_type": "code",
   "execution_count": null,
   "metadata": {
    "collapsed": false
   },
   "outputs": [],
   "source": [
    "# Compute the textures for the intensity corrected T1 and T2 data\n",
    "scales = [1, 2, 4, 8]\n",
    "\n",
    "t1_textures, t1_labels = textures(ct1, scales, basename='t1', whiten=True, mask=brain)\n",
    "t2_textures, t2_labels = textures(ct2, scales, basename='t2', whiten=True, mask=brain)\n",
    "ns = t1_textures.shape[-1]"
   ]
  },
  {
   "cell_type": "code",
   "execution_count": null,
   "metadata": {
    "collapsed": true
   },
   "outputs": [],
   "source": []
  },
  {
   "cell_type": "code",
   "execution_count": null,
   "metadata": {
    "collapsed": false
   },
   "outputs": [],
   "source": [
    "# Create a linear classifier to separate CSF from gray and white\n",
    "bkg_signal = select([t1_textures, t2_textures], background)[::100,:]\n",
    "csf_signal = select([t1_textures, t2_textures], csf)\n",
    "gray_signal = select([t1_textures, t2_textures], gray)[::50,:]\n",
    "white_signal =  select([t1_textures, t2_textures], white)[::50,:]\n",
    "ventricle_signal = select([t1_textures, t2_textures], ventricle)\n",
    "\n",
    "bkg_label = 0*np.ones([bkg_signal.shape[0],1], dtype=np.int16)\n",
    "csf_label = 1*np.ones([csf_signal.shape[0],1], dtype=np.int16)\n",
    "gray_label = 2*np.ones([gray_signal.shape[0],1], dtype=np.int16)\n",
    "white_label = 3*np.ones([white_signal.shape[0],1], dtype=np.int16)\n",
    "ventricle_label = 4*np.ones([ventricle_signal.shape[0],1], dtype=np.int16)\n",
    "\n",
    "class_names = ['Background', 'CSF', 'Gray', 'White', 'Ventricle']\n",
    "nclasses = len(class_names)\n",
    "\n",
    "Xtrain = np.vstack((bkg_signal, csf_signal, gray_signal, white_signal, ventricle_signal))\n",
    "ytrain = np.vstack((bkg_label,  csf_label,  gray_label,  white_label,  ventricle_label))\n"
   ]
  },
  {
   "cell_type": "code",
   "execution_count": null,
   "metadata": {
    "collapsed": false
   },
   "outputs": [],
   "source": [
    "csf_classifier = LogisticRegression(penalty='l2', solver='sag', max_iter=100, multi_class='multinomial', tol=1e-2)\n",
    "csf_classifier.fit(Xtrain, ytrain)"
   ]
  },
  {
   "cell_type": "code",
   "execution_count": null,
   "metadata": {
    "collapsed": false
   },
   "outputs": [],
   "source": [
    "z = 120\n",
    "slice_signal = select([t1_textures[:,:,z,:], t2_textures[:,:,z,:]])\n",
    "\n",
    "csf_pred = csf_classifier.predict(slice_signal.reshape([nx*ny,2]))\n",
    "plt.figure(figsize=[10,5])\n",
    "plt.subplot(1,3,1)\n",
    "plt.imshow(ct1[:,::-1,z].transpose(), cmap='gray')\n",
    "plt.axis('off')\n",
    "plt.title('T1 image')\n",
    "plt.subplot(1,3,2)\n",
    "plt.imshow(ct2[:,::-1,z].transpose(), cmap='gray')\n",
    "plt.axis('off')\n",
    "plt.title('T2 image')\n",
    "plt.subplot(1,3,3)\n",
    "plt.imshow(csf_pred.reshape([nx,ny])[:,::-1].transpose(), cmap='jet')\n",
    "plt.axis('off')\n",
    "plt.title('Classification')"
   ]
  },
  {
   "cell_type": "code",
   "execution_count": null,
   "metadata": {
    "collapsed": false
   },
   "outputs": [],
   "source": [
    "csf_pred = csf_classifier.predict_proba(slice_signal.reshape([nx*ny, 2])).reshape([nx,ny, nclasses])\n",
    "plt.figure(figsize=[10,10])\n",
    "ndraw = int(np.ceil(np.sqrt(nclasses)))\n",
    "for n in range(nclasess):\n",
    "plt.subplot(ndraw,ndraw,n+1)\n",
    "plt.imshow(csf_pred[:,::-1,n].transpose(), cmap='gray', vmin=0, vmax=1)\n",
    "plt.axis('off')\n",
    "plt.title('P({}]'.format(class_names[n]))"
   ]
  },
  {
   "cell_type": "code",
   "execution_count": null,
   "metadata": {
    "collapsed": true
   },
   "outputs": [],
   "source": []
  }
 ],
 "metadata": {
  "anaconda-cloud": {},
  "kernelspec": {
   "display_name": "Python [conda root]",
   "language": "python",
   "name": "conda-root-py"
  },
  "language_info": {
   "codemirror_mode": {
    "name": "ipython",
    "version": 3
   },
   "file_extension": ".py",
   "mimetype": "text/x-python",
   "name": "python",
   "nbconvert_exporter": "python",
   "pygments_lexer": "ipython3",
   "version": "3.5.2"
  }
 },
 "nbformat": 4,
 "nbformat_minor": 0
}
