{
 "cells": [
  {
   "cell_type": "code",
   "execution_count": 1,
   "metadata": {
    "collapsed": true
   },
   "outputs": [],
   "source": [
    "import os\n",
    "import nibabel\n",
    "import numpy as np\n",
    "import ia_mri_tools\n",
    "from ia_mri_tools.ia_mri_tools import coil_correction, textures\n",
    "import pandas as pd"
   ]
  },
  {
   "cell_type": "code",
   "execution_count": 2,
   "metadata": {
    "collapsed": true
   },
   "outputs": [],
   "source": [
    "# Load the data\n",
    "data_path = os.path.join(os.path.split(ia_mri_tools.__file__)[0], 'data/HCP/100307')\n",
    "T1r = nibabel.load(os.path.join(data_path, 'T1w_acpc_dc_restore.nii.gz')).get_data()\n",
    "T2r = nibabel.load(os.path.join(data_path, 'T2w_acpc_dc_restore.nii.gz')).get_data()\n",
    "segs = nibabel.load(os.path.join(data_path, 'aparc+aseg.nii.gz')).get_data()"
   ]
  },
  {
   "cell_type": "code",
   "execution_count": 3,
   "metadata": {
    "collapsed": true
   },
   "outputs": [],
   "source": [
    "# Create textures\n",
    "scales = [1, 2, 4, 8]\n",
    "ns = len(scales)\n",
    "\n",
    "tT1 = textures(T1r, scales)\n",
    "tT2 = textures(T2r, scales)"
   ]
  },
  {
   "cell_type": "code",
   "execution_count": 4,
   "metadata": {
    "collapsed": false
   },
   "outputs": [],
   "source": [
    "# Reshape data to 1D\n",
    "nvox = np.product(segs.shape)\n",
    "rT1 = np.reshape(T1r, nvox)\n",
    "rT2 = np.reshape(T2r, nvox)\n",
    "rtT1 = np.reshape(tT1, [nvox, tT1.shape[3]])\n",
    "rtT2 = np.reshape(tT2, [nvox, tT2.shape[3]])\n",
    "rsegs = np.reshape(segs, nvox)"
   ]
  },
  {
   "cell_type": "code",
   "execution_count": null,
   "metadata": {
    "collapsed": true
   },
   "outputs": [],
   "source": [
    "# Create dataframes for all of our data\n",
    "df_T1 = pd.DataFrame(rT1, columns=['T1'])\n",
    "df_T2 = pd.DataFrame(rT2, columns=['T2'])\n",
    "seg = pd.DataFrame(rsegs, columns=['labels'])\n",
    "\n",
    "df_tT1 = pd.DataFrame(rtT1)\n",
    "df_tT2 = pd.DataFrame(rtT2)"
   ]
  },
  {
   "cell_type": "code",
   "execution_count": 5,
   "metadata": {
    "collapsed": false
   },
   "outputs": [],
   "source": [
    "# In order to label the 16 columns in both df_tT1 and df_tT2,\n",
    "# we need to create a dictionary of labels\n",
    "textures = ['smoothed', 'gradient', 'laplace', 'stddev']\n",
    "scales = ['1', '2', '4', '8']\n",
    "i = 0\n",
    "labels_T1 = {}\n",
    "for r in scales:\n",
    "    for t in textures:\n",
    "        labels_T1[i]='T1_'+r+'r_'+t\n",
    "        i = i+1\n",
    "i = 0\n",
    "labels_T2 = {}\n",
    "for r in scales:\n",
    "    for t in textures:\n",
    "        labels_T2[i]='T2_'+r+'r_'+t\n",
    "        i = i+1"
   ]
  },
  {
   "cell_type": "code",
   "execution_count": 6,
   "metadata": {
    "collapsed": false
   },
   "outputs": [],
   "source": [
    "# Apply these labels to the dataframe columns\n",
    "df_tT1 = df_tT1.rename(columns=labels_T1)\n",
    "df_tT2 = df_tT2.rename(columns=labels_T2)"
   ]
  },
  {
   "cell_type": "code",
   "execution_count": 9,
   "metadata": {
    "collapsed": false
   },
   "outputs": [],
   "source": [
    "# Concatenate all DataFrames together into one complete data frame\n",
    "data = pd.concat([df_T1, df_T2, df_tT1, df_tT2, seg], axis=1)"
   ]
  },
  {
   "cell_type": "code",
   "execution_count": 10,
   "metadata": {
    "collapsed": false
   },
   "outputs": [
    {
     "data": {
      "text/plain": [
       "Index([u'T1', u'T2', u'T1_1r_smoothed', u'T1_1r_gradient', u'T1_1r_laplace',\n",
       "       u'T1_1r_stddev', u'T1_2r_smoothed', u'T1_2r_gradient', u'T1_2r_laplace',\n",
       "       u'T1_2r_stddev', u'T1_4r_smoothed', u'T1_4r_gradient', u'T1_4r_laplace',\n",
       "       u'T1_4r_stddev', u'T1_8r_smoothed', u'T1_8r_gradient', u'T1_8r_laplace',\n",
       "       u'T1_8r_stddev', u'T2_1r_smoothed', u'T2_1r_gradient', u'T2_1r_laplace',\n",
       "       u'T2_1r_stddev', u'T2_2r_smoothed', u'T2_2r_gradient', u'T2_2r_laplace',\n",
       "       u'T2_2r_stddev', u'T2_4r_smoothed', u'T2_4r_gradient', u'T2_4r_laplace',\n",
       "       u'T2_4r_stddev', u'T2_8r_smoothed', u'T2_8r_gradient', u'T2_8r_laplace',\n",
       "       u'T2_8r_stddev', u'labels'],\n",
       "      dtype='object')"
      ]
     },
     "execution_count": 10,
     "metadata": {},
     "output_type": "execute_result"
    }
   ],
   "source": [
    "data.columns"
   ]
  },
  {
   "cell_type": "code",
   "execution_count": 31,
   "metadata": {
    "collapsed": false
   },
   "outputs": [],
   "source": [
    "# Split data into training and testing portions\n",
    "train = data.query('(labels>=2 & labels<=13) | (labels>=1000 & labels<=1035)') #Left hemisphere\n",
    "test = data.query('(labels>=2000 | (labels>=41 & labels<=52))')#Right Hemisphere"
   ]
  },
  {
   "cell_type": "code",
   "execution_count": 35,
   "metadata": {
    "collapsed": false
   },
   "outputs": [],
   "source": [
    "# Replace FreeSurfer labels with labels that are the same in training and testing data\n",
    "\n",
    "    # GM assigned value 1\n",
    "test.loc[:, 'labels'] = test.loc[:, 'labels'].replace(range(2000, 2036), 1)\n",
    "train.loc[:, 'labels'] = train.loc[:, 'labels'].replace(range(1000, 1036), 1)\n",
    "    # WM assigned value 2\n",
    "test.loc[:, 'labels'] = test.loc[:, 'labels'].replace([41], 2)\n",
    "    # CSF (ventricles) assigned value 3\n",
    "test.loc[:, 'labels'] = test.loc[:, 'labels'].replace([43], 3)\n",
    "train.loc[:, 'labels'] = train.loc[:, 'labels'].replace([4], 3)\n",
    "    # Caudate assigned value 4\n",
    "test.loc[:, 'labels'] = test.loc[:, 'labels'].replace([50], 4)\n",
    "train.loc[:, 'labels'] = train.loc[:, 'labels'].replace([11], 4)\n",
    "    # Putamen assigned value 5\n",
    "test.loc[:, 'labels'] = test.loc[:, 'labels'].replace([51], 5)\n",
    "train.loc[:, 'labels'] = train.loc[:, 'labels'].replace([12], 5)\n",
    "    # Pallidum assigned value 6\n",
    "test.loc[:, 'labels'] = test.loc[:, 'labels'].replace([52], 6)\n",
    "train.loc[:, 'labels'] = train.loc[:, 'labels'].replace([13], 6)\n",
    "    # Thalamus assigned value 7\n",
    "test.loc[:, 'labels'] = test.loc[:, 'labels'].replace([49], 7)\n",
    "train.loc[:, 'labels'] = train.loc[:, 'labels'].replace([10], 7)"
   ]
  },
  {
   "cell_type": "code",
   "execution_count": 36,
   "metadata": {
    "collapsed": false
   },
   "outputs": [],
   "source": [
    "# Grab only the voxels that are labeled\n",
    "ftrain = train.query('labels>0 & labels<=7')\n",
    "ftest = test.query('labels>0 & labels<=7')"
   ]
  },
  {
   "cell_type": "code",
   "execution_count": 44,
   "metadata": {
    "collapsed": false
   },
   "outputs": [
    {
     "name": "stderr",
     "output_type": "stream",
     "text": [
      "/Users/whiteheadep/anaconda/lib/python2.7/site-packages/sklearn/utils/optimize.py:200: UserWarning: newton-cg failed to converge. Increase the number of iterations.\n",
      "  warnings.warn(\"newton-cg failed to converge. Increase the \"\n"
     ]
    },
    {
     "data": {
      "text/plain": [
       "LogisticRegression(C=1.0, class_weight=None, dual=False, fit_intercept=True,\n",
       "          intercept_scaling=1, max_iter=100, multi_class='multinomial',\n",
       "          n_jobs=1, penalty='l2', random_state=None, solver='newton-cg',\n",
       "          tol=0.0001, verbose=0, warm_start=False)"
      ]
     },
     "execution_count": 44,
     "metadata": {},
     "output_type": "execute_result"
    }
   ],
   "source": [
    "# do the training\n",
    "from sklearn.linear_model import LogisticRegression\n",
    "Xtrain = ftrain.loc[:, ftrain.columns != 'labels']\n",
    "ytrain = ftrain.loc[:, 'labels']\n",
    "\n",
    "clf = LogisticRegression(penalty='l2', solver='newton-cg', multi_class='multinomial')\n",
    "clf.fit(Xtrain, ytrain)"
   ]
  },
  {
   "cell_type": "code",
   "execution_count": 45,
   "metadata": {
    "collapsed": false,
    "scrolled": true
   },
   "outputs": [],
   "source": [
    "# test the classifier on the training set\n",
    "Xtest = ftest.loc[:, ftest.columns != 'labels']\n",
    "ytrue = ftest.loc[:, 'labels']\n",
    "ypred = clf.predict(Xtest)"
   ]
  },
  {
   "cell_type": "code",
   "execution_count": 81,
   "metadata": {
    "collapsed": false
   },
   "outputs": [
    {
     "name": "stdout",
     "output_type": "stream",
     "text": [
      "[[664304  37411    158   1448    552    389   3681]\n",
      " [ 34554 543703    530    840   1381    632   7791]\n",
      " [   516    105   6989     30      0      0      4]\n",
      " [  3433   1966    427   5738     42      0      3]\n",
      " [   221   4730      0     39   9001    446    761]\n",
      " [     0    762      0      0     30   2499    514]\n",
      " [  2573   3482     64   1320     20      0  12480]]\n"
     ]
    }
   ],
   "source": [
    "# evaluate results\n",
    "from sklearn.metrics import confusion_matrix\n",
    "cm = confusion_matrix(ytrue, ypred, labels=[1,2,3,4,5,6,7])\n",
    "print(cm)"
   ]
  },
  {
   "cell_type": "code",
   "execution_count": 83,
   "metadata": {
    "collapsed": false
   },
   "outputs": [
    {
     "data": {
      "text/plain": [
       "[<matplotlib.text.Text at 0x29f7d9750>,\n",
       " <matplotlib.text.Text at 0x2879731d0>,\n",
       " <matplotlib.text.Text at 0x285f72e50>,\n",
       " <matplotlib.text.Text at 0x2857ab5d0>,\n",
       " <matplotlib.text.Text at 0x2857abd10>,\n",
       " <matplotlib.text.Text at 0x285780490>,\n",
       " <matplotlib.text.Text at 0x285780bd0>]"
      ]
     },
     "execution_count": 83,
     "metadata": {},
     "output_type": "execute_result"
    },
    {
     "data": {
      "image/png": "[encoded data removed]",
      "text/plain": [
       "<matplotlib.figure.Figure at 0x2857aa5d0>"
      ]
     },
     "metadata": {},
     "output_type": "display_data"
    }
   ],
   "source": [
    "### Need to normalize data before making a plot like this.\n",
    "\n",
    "import matplotlib.pyplot as plt\n",
    "x = ['pred GM', 'pred WM', 'pred CSF', 'pred Caudate', 'pred Putamen', 'pred Pallidum', 'pred Thalamus']\n",
    "y = ['true GM', 'true WM', 'true CSF', 'true Caudate', 'true Putamen', 'true Pallidum', 'true Thalamus']\n",
    "\n",
    "fig, ax = plt.subplots()\n",
    "fig.set_size_inches(10,10)\n",
    "#norm = \n",
    "heatmap = ax.pcolor(cm, cmap=plt.cm.Blues)\n",
    "\n",
    "ax.set_yticks(np.arange(cm.shape[0])+0.5, minor=False)\n",
    "ax.set_xticks(np.arange(cm.shape[1])+0.5, minor=False)\n",
    "\n",
    "ax.invert_yaxis()\n",
    "ax.xaxis.tick_top()\n",
    "\n",
    "ax.set_xticklabels(x, minor=False)\n",
    "ax.set_yticklabels(y, minor=False)"
   ]
  },
  {
   "cell_type": "code",
   "execution_count": null,
   "metadata": {
    "collapsed": true
   },
   "outputs": [],
   "source": []
  }
 ],
 "metadata": {
  "anaconda-cloud": {},
  "kernelspec": {
   "display_name": "Python [Root]",
   "language": "python",
   "name": "Python [Root]"
  },
  "language_info": {
   "codemirror_mode": {
    "name": "ipython",
    "version": 2
   },
   "file_extension": ".py",
   "mimetype": "text/x-python",
   "name": "python",
   "nbconvert_exporter": "python",
   "pygments_lexer": "ipython2",
   "version": "2.7.12"
  }
 },
 "nbformat": 4,
 "nbformat_minor": 0
}
